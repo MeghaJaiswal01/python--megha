{
 "cells": [
  {
   "cell_type": "markdown",
   "metadata": {},
   "source": [
    "###Q.1 Create two 3*3 matrix, with random numbers. Perform following operations; \n",
    "\n",
    "a. Addition of both the mtrices \n",
    "\n",
    "b. Subtraction \n",
    "\n",
    "c. Multiplication of the matrices "
   ]
  },
  {
   "cell_type": "code",
   "execution_count": 17,
   "metadata": {},
   "outputs": [],
   "source": [
    "import numpy as np\n",
    "\n",
    "A = np.random.randint(1, 10, size=(3, 3))\n",
    "B = np.random.randint(1, 10, size=(3, 3))"
   ]
  },
  {
   "cell_type": "code",
   "execution_count": null,
   "metadata": {},
   "outputs": [
    {
     "name": "stdout",
     "output_type": "stream",
     "text": [
      "Matrix A:\n",
      "[[1 6 3]\n",
      " [3 8 6]\n",
      " [4 2 2]]\n"
     ]
    }
   ],
   "source": [
    "print(\"Matrix A:\")\n",
    "A\n"
   ]
  },
  {
   "cell_type": "code",
   "execution_count": 22,
   "metadata": {},
   "outputs": [
    {
     "name": "stdout",
     "output_type": "stream",
     "text": [
      "[[1 6 3]\n",
      " [3 8 6]\n",
      " [4 2 2]]\n"
     ]
    }
   ],
   "source": [
    "\"Matrix B:-\"\n",
    "print(B)"
   ]
  },
  {
   "cell_type": "code",
   "execution_count": 19,
   "metadata": {},
   "outputs": [
    {
     "data": {
      "text/plain": [
       "array([[ 6, 15,  9],\n",
       "       [ 8,  9, 15],\n",
       "       [13,  3, 10]], dtype=int32)"
      ]
     },
     "execution_count": 19,
     "metadata": {},
     "output_type": "execute_result"
    }
   ],
   "source": [
    "#1. Addition\n",
    "addition = A + B\n",
    "\"Addition of A and B:-\"\n",
    "addition\n"
   ]
  },
  {
   "cell_type": "code",
   "execution_count": 20,
   "metadata": {},
   "outputs": [
    {
     "data": {
      "text/plain": [
       "array([[ 4,  3,  3],\n",
       "       [ 2, -7,  3],\n",
       "       [ 5, -1,  6]], dtype=int32)"
      ]
     },
     "execution_count": 20,
     "metadata": {},
     "output_type": "execute_result"
    }
   ],
   "source": [
    "#2. Substraction:-\n",
    "subtraction = A - B\n",
    "\"Subtraction of A and B:\"\n",
    "subtraction"
   ]
  },
  {
   "cell_type": "code",
   "execution_count": 21,
   "metadata": {},
   "outputs": [
    {
     "data": {
      "text/plain": [
       "array([[ 56, 114,  81],\n",
       "       [ 44,  56,  39],\n",
       "       [ 44,  78,  49]], dtype=int32)"
      ]
     },
     "execution_count": 21,
     "metadata": {},
     "output_type": "execute_result"
    }
   ],
   "source": [
    "#Multiplication:-\n",
    "multiplication = np.dot(A, B)\n",
    "\"Multiplication of A and B:-\"\n",
    "multiplication\n"
   ]
  }
 ],
 "metadata": {
  "kernelspec": {
   "display_name": "Python 3",
   "language": "python",
   "name": "python3"
  },
  "language_info": {
   "codemirror_mode": {
    "name": "ipython",
    "version": 3
   },
   "file_extension": ".py",
   "mimetype": "text/x-python",
   "name": "python",
   "nbconvert_exporter": "python",
   "pygments_lexer": "ipython3",
   "version": "3.12.6"
  }
 },
 "nbformat": 4,
 "nbformat_minor": 2
}
